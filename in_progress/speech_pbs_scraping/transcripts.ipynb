{
 "cells": [
  {
   "cell_type": "markdown",
   "metadata": {},
   "source": [
    "# This notebook takes the transcripts from clips of PBS Newshour\n",
    "\n",
    "This is a lot easier and works better than full episodes.  I can't find transcripts for full episodes which adds to their difficulty however a clip on PBS Newshour always has a transcript.  This is also a lot less data (text is less info than sound or video)."
   ]
  },
  {
   "cell_type": "markdown",
   "metadata": {},
   "source": [
    "### Imports"
   ]
  },
  {
   "cell_type": "code",
   "execution_count": 1,
   "metadata": {
    "collapsed": true
   },
   "outputs": [],
   "source": [
    "### Removes warnings that occassionally show in imports\n",
    "import warnings\n",
    "warnings.filterwarnings('ignore')\n",
    "\n",
    "### Libraries for website scraping\n",
    "from bs4 import BeautifulSoup\n",
    "import requests\n",
    "import urllib\n",
    "\n",
    "# Regular expressions\n",
    "import re\n",
    "\n",
    "# Progress bar\n",
    "from tqdm import tqdm\n",
    "\n",
    "### Standard imports\n",
    "import pandas as pd\n",
    "import numpy as np\n",
    "\n",
    "### Plotting imports\n",
    "import matplotlib.pyplot as plt\n",
    "import seaborn as sns\n",
    "%matplotlib inline\n",
    "sns.set()"
   ]
  },
  {
   "cell_type": "markdown",
   "metadata": {},
   "source": [
    "### Clips Timeline\n",
    "\n",
    "The [earliest clip](https://www.pbs.org/newshour/show/robert-macneil-and-jim-lehrer-and-the-watergate-hearings) is from Nixon's Watergate scandal in May 17 1973.\n",
    "\n",
    "- Unfortunately this clip does not have a transcript (the transcript is blank).  I have a feeling this might be common so our scraping should watch out for this.\n",
    " \n",
    "The early clips have quite a bit of pockets as the [tenth oldest clip](https://www.pbs.org/newshour/show/early-years-of-aids-deaths-fuel-fear) is from Sep 4 1985.  The [100th oldest clip](https://www.pbs.org/newshour/show/george-shultz-working-age-89) is relatively recent and is from Dec 16 2009."
   ]
  },
  {
   "cell_type": "markdown",
   "metadata": {},
   "source": [
    "### Scraping Structure\n",
    "\n",
    "#### Page iteration\n",
    "\n",
    "We should first iterate over each page of clips.  The url for each page is https://www.pbs.org/newshour/video/page/<strong>PAGE_NUMBER</strong>.  As of typing, there are 980 pages of clips.  The videos for each page appear to be stored in `<div id=\"all-videos\"> ... </div>`.  Of course the link to each clip is stored in a `<a href=\"URL\"> ... </a>` block.  This is very convenient!\n",
    "\n",
    "<u>Note</u>: One tricky part is I must skip full episodes shown on the page.  Full episodes contain no transcripts."
   ]
  },
  {
   "cell_type": "code",
   "execution_count": 2,
   "metadata": {
    "scrolled": true
   },
   "outputs": [
    {
     "name": "stdout",
     "output_type": "stream",
     "text": [
      "\n",
      "Page 1:\n",
      "\n",
      "WATCH: White House declines to name Supreme Court candidates\n",
      "Mexico votes amid violence with hopes for change\n",
      "Vietnam-era cultural luminaries reunite and reflect on the power of protest\n",
      "Comedian Cameron Esposito tackles sexual assault in new special “Rape Jokes”\n",
      "Stiffer bonds keeping some migrant families apart longer\n",
      "Stockton’s young mayor giving city’s youth more opportunities\n",
      "News Wrap: Trump narrows list of potential Supreme Court nominees\n",
      "‘I didn’t know we could be separated’: Migrant teen has no idea when he will see his dad\n",
      "White House: Family separation executive order is ‘temporary reprieve,’ but immigration law ‘ties our hands’\n",
      "In the middle of tragedy, Capital Gazette sticks to its mission\n",
      "EU’s migrant compromise leaves many unanswered questions\n",
      "Tapping national rage, Mexican election frontrunner promises to overturn the system\n",
      "Shields and Brooks on Trump’s Supreme Court politics, Ocasio-Cortez’s primary upset\n",
      "WATCH: Trump says attack on Capital Gazette newspaper ‘shocked conscience of the nation’\n",
      "Democrats warn rights are ‘on the line’ in coming Supreme Court fight\n",
      "News Wrap: Annapolis newspaper shooting suspect in custody\n",
      "\n",
      "Page 2:\n",
      "\n",
      "Why Justice Kennedy’s final Supreme Court term is consequential\n",
      "Gillibrand: ‘America’s women need to speak out and stand up’ on Trump Supreme Court nominee\n",
      "The logistical hurdles hindering migrant family reunification\n",
      "How these Alabama architecture students are improving lives with low-cost home designs\n",
      "How a new aristocracy’s self-segregation puts stress on society\n",
      "Judd Apatow on missing Garry Shandling, being Adam Sandler’s roommate and family trips to Sephora\n",
      "WATCH: Trump lauds Foxconn groundbreaking, his economic agenda in Wisconsin\n",
      "WATCH: Rod Rosenstein and Christopher Wray testify before Congress on Russia probe\n",
      "What made Justice Anthony Kennedy an influential voice\n",
      "The most important qualities Trump will seek in a Justice Kennedy replacement\n",
      "News Wrap: Malta accepts stranded migrant ship, ending standstill\n",
      "Without prior planning, Trump administration faces massive challenge to reunite migrant families\n",
      "Alexandria Ocasio-Cortez’s primary win shakes up Democratic expectations\n",
      "How we’ll remember Justice Kennedy’s Supreme Court impact\n",
      "Preserving the priceless manuscripts of Timbuktu\n",
      "‘Less’ author Andrew Sean Greer answers your questions\n",
      "After Supreme Court ruling, how does Trump’s travel ban affect U.S. immigration policy?\n",
      "News Wrap: House GOP readies for immigration bill vote\n",
      "\n",
      "Page 3:\n",
      "\n",
      "Hirono: Immigrant detention ‘very reminiscent’ of Japanese-American internment during WWII\n",
      "China has a front-row seat to North Korea’s possible economic opening\n",
      "Public shaming of Trump officials sparks debate over protest and civility\n",
      "Can Easter Island’s treasures withstand storms of climate change?\n",
      "WATCH: Trump awards posthumous Medal of Honor to WWII soldier\n",
      "Trump’s travel ban upheld by Supreme Court, drawing heated reaction\n",
      "News Wrap: Funeral held for Antwon Rose, black teen killed by police officer\n",
      "Border security and legal asylum process not mutually inconsistent, Rep. Lance says\n",
      "Running for their lives was the only option for these migrants\n",
      "Erdogan consolidates control over Turkey with election win\n",
      "Supreme Court upholds Texas voting districts in racial gerrymandering case\n",
      "How families of gun owners with dementia grapple with safety\n",
      "Susan Page and Stuart Rothenberg on Trump’s core supporters, GOP’s immigration options\n",
      "Donald Hall, 89, saw poetry as ‘school for feeling’\n",
      "WATCH: White House addresses civility debate amid outrage over immigration policies\n",
      "Amid outrage at family separations, Trump supporters dig in\n",
      "Violence interrupts peace talks in Nicaragua\n",
      "Tony Hawk turns 50 — and he has a trick for every year\n",
      "\n",
      "Page 4:\n",
      "\n",
      "Rivals challenge Erdogan’s iron grip on eve of Turkey’s election\n",
      "Process of reunification ‘incredibly frustrating’ for immigrant families\n",
      "Philadelphia reverses course on ‘zero tolerance’ discipline in schools\n",
      "Democrats urge Trump to rescind ‘zero tolerance’ as GOP delays immigration vote\n",
      "News Wrap: 200 migrants stranded on a Mediterranean rescue ship\n",
      "Advocates say government gave no thought to reuniting children separated at the border\n",
      "What the Supreme Court’s cellphone location data ruling could mean for your digital privacy\n",
      "Saudi women are finally in the driver’s seat, but not of their own lives\n",
      "Shields and Brooks on family separation at the border, remembering Charles Krauthammer\n",
      "Crystal Bridges offers a world of art in Arkansas’ backyard\n",
      "This music critic says it’s time to update our art consumption ethical standards\n",
      "WATCH: Trump pushes back against criticism of family separation\n",
      "More than 2,300 children still separated from parents as GOP wrestles with immigration fix\n",
      "News Wrap: States can enforce online sales tax, high court rules\n",
      "This judge hopes outrage over family separation is ‘last gasp’ of current immigration system\n",
      "Immigrant teens placed in Virginia detention facility say they were beaten while restrained, isolated for days\n",
      "Utah’s Navajo residents hope redistricting brings needed resources\n",
      "\n",
      "Page 5:\n",
      "\n",
      "‘Journalists are our lifeblood,’ new Los Angeles Times owner says\n",
      "ESports mesmerize as traditional sports worry about decline\n",
      "Jackson Bird gets to be the transgender role model he needed as a kid\n",
      "WATCH: First lady Melania Trump visits migrant children at Texas immigrant holding center\n",
      "Trump makes abrupt about-face on family separation after intense pressure\n",
      "What asylum-seekers meet when they try to cross legally\n",
      "News Wrap: Trump administration asks judge to block California immigration laws\n",
      "Toddlers separated from parents ‘eerily quiet’ or inconsolable at one migrant shelter\n",
      "Migrants risk the dangerous trip to the U.S. because it’s safer than staying home\n",
      "What Trump rally supporters say about family separation\n",
      "How off-the-grid Navajo residents are getting running water\n",
      "WATCH: Trump in Minnesota defends hard-line immigration policies to cheers\n",
      "WATCH: House GOP leaders hold news conference amid family separation uproar\n",
      "At the heart of the family separation crisis is an immigration system totally overwhelmed\n",
      "News Wrap: China calls Trump trade escalation ‘blackmail’\n",
      "Trump administration wants Congress to fix immigration loophole, White House says\n",
      "Napolitano: Trump administration taking prosecutors away from serious crimes to handle border misdemeanors\n",
      "The trade battle with China keeps escalating. What’s at stake for the U.S.?\n"
     ]
    }
   ],
   "source": [
    "PAGE_NUM = 5 # How many pages to scrap\n",
    "\n",
    "url_dir = \"https://www.pbs.org/newshour/video/page/\"\n",
    "\n",
    "for i in range(1, PAGE_NUM+1):\n",
    "    print(f\"\\nPage {i}:\\n\")\n",
    "    \n",
    "    # Retrieving website data\n",
    "    page = urllib.request.urlopen(f\"{url_dir}{i}\")\n",
    "    page = BeautifulSoup(page)\n",
    "\n",
    "    # Display pulled video titles\n",
    "    videos = page.find(\"div\", {\"id\": \"all-videos\"})\n",
    "    videos = videos.findAll(\"article\", {\"class\": \"card-sm\"})\n",
    "    for video in videos:\n",
    "        is_full = video.find_all(text=re.compile('Full Episode'))\n",
    "        if len(is_full) == 1:\n",
    "            continue\n",
    "        video = video.find(\"a\", {\"class\": \"card-sm__title\"})\n",
    "        print(video.span.text)"
   ]
  },
  {
   "cell_type": "markdown",
   "metadata": {},
   "source": [
    "### Transcript scanning\n",
    "\n",
    "Once we arrive at a clip we want a few things: (1) page URL, this will be nice for debugging, (2) text stored under \"Story\", this is essentially the summary of the clip, (3) date and time, (4) video title, (5) transcript.  Let's attack each of these strategically.  It's important to note some clips don't have transcripts ([example](https://www.pbs.org/newshour/show/voices-from-sandy-madeleine-conway-breezy-point)) and some clips have blank transcripts ([example]())\n",
    "\n",
    "<u>Note</u>: It would also be nice to get video tags if that's availiable.  Such as politics, opinion, technology, etc."
   ]
  },
  {
   "cell_type": "markdown",
   "metadata": {},
   "source": [
    "#### 1.) Page URL\n",
    "\n",
    "We already have this info since we arrived at the proper page!"
   ]
  },
  {
   "cell_type": "markdown",
   "metadata": {},
   "source": [
    "#### 2.) \"Story\" text\n",
    "\n",
    "The structure seems to be...\n",
    "\n",
    "`<div id=\"story\">\n",
    "  <div class=\"body-text\">\n",
    "    <p>\n",
    "      OUR TEXT\n",
    "    </p>\n",
    "  </div>\n",
    "</div>`\n",
    "\n",
    "Other times it's stored as ([example](https://www.pbs.org/newshour/show/shields-and-brooks-on-trumps-supreme-court-politics-ocasio-cortezs-primary-upset))...\n",
    "\n",
    "`<div class=\"vt__excerpt body-text\">\n",
    "  <p>\n",
    "    OUR_TEXT\n",
    "  </p>\n",
    "</div>`"
   ]
  },
  {
   "cell_type": "markdown",
   "metadata": {},
   "source": [
    "#### 3.) Date and time\n",
    "\n",
    "This seems to be stored in a `<time> ... </time>` block.  I wasn't even aware this existed in HTML, hopefully it's unique for each clip page.\n",
    "\n",
    "This looks like it might need some formatting later, but let's worry about that then and just store it as a string for now."
   ]
  },
  {
   "cell_type": "markdown",
   "metadata": {},
   "source": [
    "#### 4.) Title\n",
    "\n",
    "We already have this as well.  It was stored next to the clip URL"
   ]
  },
  {
   "cell_type": "markdown",
   "metadata": {},
   "source": [
    "#### 5.) Transcript\n",
    "\n",
    "This might be the trickiest part as some don't have transcripts.  However the ones that do ([example](https://www.pbs.org/newshour/show/shields-and-brooks-on-trumps-supreme-court-politics-ocasio-cortezs-primary-upset)) are stored as...\n",
    "\n",
    "\n",
    "`\n",
    "    <ul class=\"video-transcript\">\n",
    "    <li>\n",
    "        <div>\n",
    "          <p><strong>SPEAKER_NAME</strong></p>\n",
    "          <p>SPEAKER_TEXT</p>\n",
    "          ...\n",
    "          <p>SPEAKER_TEXT</p>\n",
    "        </div>\n",
    "    </li>\n",
    "  </ul>\n",
    "`\n",
    "\n",
    "<u>Note</u>: Each `<li></li>` is an individual person talking\n",
    "\n",
    "Older videos ([example](https://www.pbs.org/newshour/show/troubles-for-the-holy-see-ahead-of-papal-elections)) seem to need a click on 'Transcripts' to unhid the text.  Also it seems possible to add `#story` and `#transcript` to the URL to get the information needed.  The transcript is stored differently as well.\n",
    "\n",
    "`\n",
    "    <div id=\"transcript\">\n",
    "    <ul class=\"video-transcript\">\n",
    "      <li>PERSON</li>\n",
    "    </ul>\n",
    "  </div>`\n",
    "\n",
    "This [clip](https://www.pbs.org/newshour/show/troubles-for-the-holy-see-ahead-of-papal-elections) also seems to make a mistake... one person's text carries over into the next `li`.  I think this can be rememdied by checking if a `<strong>` exists"
   ]
  },
  {
   "cell_type": "code",
   "execution_count": 8,
   "metadata": {},
   "outputs": [],
   "source": [
    "def get_story(url):\n",
    "    page = urllib.request.urlopen(f\"{url}#story\")\n",
    "    page = BeautifulSoup(page)\n",
    "    \n",
    "    # Layout 1\n",
    "    story = page.find(\"div\", {\"id\": \"story\"})\n",
    "    if story is not None:\n",
    "        story = story.find(\"p\")\n",
    "        if story is not None:\n",
    "            return story.text\n",
    "    \n",
    "    # Layout 2\n",
    "    story = page.find(\"div\", {\"id\": \"transcript\"})\n",
    "    if story is not None:\n",
    "        story = story.find(\"div\", {\"class\": \"vt__excerpt body-text\"})\n",
    "        if story is not None:\n",
    "            story = story.find(\"p\")\n",
    "            if story is not None:\n",
    "                return story.text\n",
    "    \n",
    "    # Some clips don't have a summary story        \n",
    "    return None\n",
    "    \n",
    "def get_date(page):\n",
    "    date = page.find(\"time\").text\n",
    "    return date\n",
    "\n",
    "def get_comments(page):\n",
    "    comments = page.find(\"button\", {\"class\": \"comments__btn\"})\n",
    "    comments = comments.find(\"span\").text\n",
    "    return comments\n",
    "\n",
    "def get_transcript(page):\n",
    "    speakers = set()\n",
    "    \n",
    "    transcript = page.find(\"div\", {\"id\": \"transcript\"})\n",
    "    \n",
    "    if transcript is None:\n",
    "        return None, None\n",
    "    \n",
    "    transcript = transcript.find_all(\"li\")\n",
    "    \n",
    "    speeches = list()\n",
    "    \n",
    "    for speech in transcript:\n",
    "        paragraphs = speech.find_all(\"p\")\n",
    "        text = list()\n",
    "        \n",
    "        if paragraphs[0].find(\"strong\") != None:\n",
    "            speaker = paragraphs[0].find(\"strong\").text.replace(\":\", \"\").split(\",\")[0]\n",
    "            if not speaker.isupper():\n",
    "                continue\n",
    "            speakers.add(speaker)\n",
    "            paragraphs = paragraphs[1:]\n",
    "            \n",
    "        for paragraph in paragraphs:\n",
    "            text.append(paragraph.text)\n",
    "            \n",
    "        speeches.append([speaker, text])\n",
    "        \n",
    "    return speakers, speeches\n",
    "\n",
    "def get_page_info(url):\n",
    "    page = urllib.request.urlopen(f\"{url}#transcript\")\n",
    "    page = BeautifulSoup(page)\n",
    "    \n",
    "    story = get_story(url)\n",
    "    date  = get_date(page)\n",
    "    speakers, transcript = get_transcript(page)\n",
    "    comments = get_comments(page)\n",
    "    \n",
    "    return story, date, transcript, speakers, comments"
   ]
  },
  {
   "cell_type": "markdown",
   "metadata": {},
   "source": [
    "### Edge cases:\n",
    "\n",
    "- Speakers need to be all caps and no titles (Ex: \"from the Washington Post\") ([link](https://www.pbs.org/newshour/show/brooks-and-marcus-on-gop-backlash-to-trump-and-cruz-clinton-sanders-practicality-debate))\n",
    "- Some clips don't have a transcript ([link](http://localhost:7000/notebooks/git/misc/in_progress/speech_pbs_scraping/transcripts.ipynb))\n",
    "- This page has many clips with broken links ([link](https://www.pbs.org/newshour/video/page/650))\n",
    "- Some clips have a story, but no transcript ([link](https://www.pbs.org/newshour/show/danica-patrick-inspires-families-to-the-racetrack))\n",
    "- This clip has a div for story, but no text ([link](https://www.pbs.org/newshour/show/news-wrap-russia-expels-diplomats-in-reprisal-against-u-s-and-others#story))"
   ]
  },
  {
   "cell_type": "code",
   "execution_count": null,
   "metadata": {
    "scrolled": false
   },
   "outputs": [
    {
     "name": "stderr",
     "output_type": "stream",
     "text": [
      "\n",
      "\n",
      "\n",
      "  0%|          | 0/100 [00:00<?, ?it/s]\u001b[A\u001b[A\u001b[A\n",
      "\n",
      "\n",
      "  1%|          | 1/100 [00:40<1:06:29, 40.30s/it]\u001b[A\u001b[A\u001b[A\n",
      "\n",
      "\n",
      "  2%|▏         | 2/100 [01:23<1:08:35, 42.00s/it]\u001b[A\u001b[A\u001b[A\n",
      "\n",
      "\n",
      "  3%|▎         | 3/100 [02:10<1:10:35, 43.66s/it]\u001b[A\u001b[A\u001b[A\n",
      "\n",
      "\n",
      "  4%|▍         | 4/100 [02:59<1:11:38, 44.77s/it]\u001b[A\u001b[A\u001b[A"
     ]
    }
   ],
   "source": [
    "pbs_df = pd.DataFrame(columns = [\"URL\", \"Story\", \"Date\", \"Title\", \"Transcript\", \"Speakers\", \"Number of Comments\"])\n",
    "\n",
    "START    = 1     # Start at this page\n",
    "PAGE_NUM = 100   # How many pages to scrap\n",
    "url_dir = \"https://www.pbs.org/newshour/video/page/\"\n",
    "\n",
    "for i in tqdm(range(START, START+PAGE_NUM)):\n",
    "    \n",
    "    # Retrieving website data\n",
    "    page = urllib.request.urlopen(f\"{url_dir}{i}\")\n",
    "    page = BeautifulSoup(page)\n",
    "\n",
    "    # Display pulled video titles\n",
    "    videos = page.find(\"div\", {\"id\": \"all-videos\"})\n",
    "    videos = videos.findAll(\"article\", {\"class\": \"card-sm\"})\n",
    "    for video in videos:\n",
    "        is_full = video.find_all(text=re.compile('Full Episode'))\n",
    "        if len(is_full) == 1:\n",
    "            continue\n",
    "        video = video.find(\"a\", {\"class\": \"card-sm__title\"})\n",
    "        \n",
    "        url   = video[\"href\"]\n",
    "        title = video.span.text\n",
    "                \n",
    "        if url == \"https://www.pbs.org/newshour/show/0\":\n",
    "            continue\n",
    "        \n",
    "        if url.replace(\"https://www.pbs.org/newshour/\", \"\").split(\"/\")[0] in [\"politics\", \"nation\", \"world\"]:\n",
    "            continue\n",
    "        \n",
    "        try:\n",
    "            story, date, transcript, speakers, comments = get_page_info(url)\n",
    "\n",
    "            # Store info in df\n",
    "            row = [url, story, date, title, transcript, speakers, comments]\n",
    "            pbs_df.loc[len(pbs_df)] = row\n",
    "        except:\n",
    "            print(\"FAILED\")\n",
    "            print(url)\n",
    "            \n",
    "pbs_df.head()"
   ]
  },
  {
   "cell_type": "code",
   "execution_count": 88,
   "metadata": {},
   "outputs": [
    {
     "data": {
      "text/plain": [
       "URL                   0\n",
       "Story                 0\n",
       "Date                  0\n",
       "Title                 0\n",
       "Transcript            0\n",
       "Speakers              0\n",
       "Number of Comments    0\n",
       "dtype: int64"
      ]
     },
     "execution_count": 88,
     "metadata": {},
     "output_type": "execute_result"
    }
   ],
   "source": [
    "pbs_df.shape\n",
    "pbs_df.isnull().sum()"
   ]
  },
  {
   "cell_type": "code",
   "execution_count": 85,
   "metadata": {},
   "outputs": [
    {
     "data": {
      "text/plain": [
       "Series([], Name: URL, dtype: object)"
      ]
     },
     "execution_count": 85,
     "metadata": {},
     "output_type": "execute_result"
    }
   ],
   "source": [
    "pbs_df[pbs_df.Story.isnull()].URL"
   ]
  },
  {
   "cell_type": "code",
   "execution_count": 25,
   "metadata": {},
   "outputs": [
    {
     "data": {
      "text/plain": [
       "[['HARI SREENIVASAN',\n",
       "  [' And now to the analysis of Brooks and Marcus. Judy spoke with them earlier today.']],\n",
       " ['JUDY WOODRUFF',\n",
       "  [' And that is New York Times columnist David Brooks and Washington Post columnist Ruth Marcus. Mark Shields is away.',\n",
       "   'And welcome to you both.',\n",
       "   'So, as we just heard, a new front has opened up in this battle inside the Republican Party.',\n",
       "   'David, you have this iconic magazine of the conservative movement, “The National Review,” going after Donald Trump, saying he’s a menace to conservatism. He’s coming back. Where is this headed?']],\n",
       " ['DAVID BROOKS',\n",
       "  [' Well, the split is interesting.',\n",
       "   'It’s sort of between people who are more ideologically- or philosophically-minded and those who are more rogue- and chaos-minded. And so the rogue side is Sarah Palin going with Trump. The people who are more ideologically conservative, whether it’s “National Review” or the Wall Street Journal editorial page, are suspicious of Trump because he’s ideologically all over the place.',\n",
       "   'And so it’s sort of breaking down on that line, a little elite, populists, so the talk show folks are a little more — a lot more pro-Trump than the print folks. And so that’s the breakdown.',\n",
       "   'I happen to think that, in voters’ minds, that the last four years have made Republicans less conservative. The economic stress and the economic crisis have made them think, I want somebody on my side. And they are a little more willing to tolerate government than they were, say, 10 years ago. And so I think — and they’re willing to tolerate a little more chaos than they were 10 years ago.',\n",
       "   'So, I think, if it’s ideology vs. chaos, I think chaos probably wins.']],\n",
       " ['JUDY WOODRUFF',\n",
       "  [' Which is good news for Donald Trump, if that is the way it works.',\n",
       "   '(LAUGHTER)']],\n",
       " ['JUDY WOODRUFF', [' How do you see this?']],\n",
       " ['RUTH MARCUS',\n",
       "  [' Well, I think breakdown might be the operative word.',\n",
       "   'And there is also this division really between various pieces of the Republican establishment. The conservative Republican establishment, as exemplified by “National Review,” is freaking out, I think, is the technical term, about the Trump menace, and that’s the word that “National Review” used, menace.',\n",
       "   'The Washington establishment and the party establishment is freaking out about Cruz, because they see, strangely, Trump as — some of them do — we heard from Bob Dole this week — Trump as more electable than Cruz. They do not want to have no shot at a third term in the White — they don’t want to have a third Democratic term in the White House.']],\n",
       " ['JUDY WOODRUFF',\n",
       "  [' Well, so, but where does it go?',\n",
       "   'David, you’re saying that Republicans are less tolerant or less warm to the idea of conservatism. They’re willing to tolerate some chaos. But does that mean — does that automatically mean that Trump prevails over these other establishment candidates?']],\n",
       " ['DAVID BROOKS',\n",
       "  [' Not automatically.',\n",
       "   'I’m still hoping the establishment will get off their rear ends and actually do something and act like an establishment and rally behind one candidate. But you have to say right now, given all the things that have happened this weekend — and, remember, a lot can still happen between now and the caucuses. The final week is like 70 percent of the campaign.',\n",
       "   'You could see massive swings. And so you’re looking for magic. Who has magic right now? And given all the things that have happened, I don’t think Bob Dole gives Trump a lot of magic, but Sarah Palin gives him a little. And to me…']],\n",
       " ['JUDY WOODRUFF', [' You do think so?']],\n",
       " ['DAVID BROOKS',\n",
       "  [' … the vibe feels a little like, if there is any magic there, Trump has a little of that magic, and Cruz, even in the polls, is falling slightly.']],\n",
       " ['JUDY WOODRUFF', [' How do you see the Sarah Palin endorsement?']],\n",
       " ['RUTH MARCUS',\n",
       "  [' So, as a general matter, endorsements don’t matter very much.',\n",
       "   'But this one, from that low baseline, matters a little more than most. First of all, once again, Donald Trump managed to take attention away from everybody else, including Ted Cruz, who needs the attention more, put it on him, Donald Trump.']],\n",
       " ['JUDY WOODRUFF', [' For several days.']],\n",
       " ['RUTH MARCUS',\n",
       "  [' For several days, and also Sarah Palin.',\n",
       "   'Also, to the extent that endorsements matter, they matter because they’re validators of something that voters may still have a question about. With Donald Trump — and this is the argument Ted Cruz has been making — the question is, is he a real conservative, can you really trust him to be a conservative, not the guy with New York values?',\n",
       "   'With Sarah Palin, who may not be convincing to Republicans inside the Beltway, she can speak pretty convincingly to voters in Iowa who, remember, were for Rick Santorum four years ago.']],\n",
       " ['JUDY WOODRUFF',\n",
       "  [' But she also — David, there are some voters who say they absolutely don’t trust her and don’t care what she thinks.']],\n",
       " ['DAVID BROOKS',\n",
       "  [' And this is why we shouldn’t hand Trump the nomination. There is a ceiling there. There is a real ceiling there, especially as we get into the more diverse states.',\n",
       "   'And so I think, once you get an establishment candidate, a moderate candidate, what we now call moderate, Trump is still very — extremely vulnerable as we get there. If you look at — if you try to break down the party into lanes, which may not be valid anymore, but there’s still 40, 50 percent who are either moderate, have some mixture of conservative and liberal positions, who are just party regulars, not particularly ideological.',\n",
       "   'And those people, that’s why Romney has won. That’s why McCain has won. That’s why Dole has won nominations. That’s why W. ran with compassionate conservatism. They’re still there. They haven’t disappeared. The party is radicalized, clearly, but Trump and Cruz are both still vulnerable if there’s a single alternative.']],\n",
       " ['JUDY WOODRUFF', [' Well…', '(CROSSTALK)']],\n",
       " ['JUDY WOODRUFF', ['  Go ahead.']],\n",
       " ['RUTH MARCUS',\n",
       "  [' David said “once you get,” and I think that’s the operative term, because how in this time with super PACs and so many candidates still running in that — for that moderate establishment, maybe not moderate, but certainly establishment mantle, how does that sort itself out?',\n",
       "   'That’s going to be difficult to do. There is some — a degree of — that can’t be denied of anti-Trump animus even with the Republican Party. I have heard it. I was with a bunch of voters at a Ted Cruz event in New Hampshire earlier this week, and I was surprised at the number of them who were not shopping between Cruz and Trump. Trump was totally off their list.']],\n",
       " ['DAVID BROOKS',\n",
       "  [' One of the other thing is the ads they’re running against each other.']],\n",
       " ['JUDY WOODRUFF', ['  And I was going to ask you about it.']],\n",
       " ['DAVID BROOKS',\n",
       "  [' And so I think the Trump ads, they — I mean, personally, I find them extremely noxious. They’re extremely anti-immigrant. And they attack Cruz on two grounds, first, that he’s insufficiently anti-immigrant, and, second, that he’s kind of squirrelly and there are some images of him talking to FOX News looking a little squirrelly, and that he’s opportunistic.']],\n",
       " ['JUDY WOODRUFF', [' Squirrelly, meaning?']],\n",
       " ['DAVID BROOKS',\n",
       "  [' That he flip-flops, which he sort of did on the immigration issue. He took about a week when the immigration reform was passing to try to find the right position for himself.',\n",
       "   'And so that’s the inauthenticity and opportunism, where he’s weak. Cruz is hitting back with an ad charging Trump with being a ruthless businessman. I don’t think that is an effective attack line. Donald Trump, people sort of like that. And so, if you just look at the two, the way they’re ramping up their campaigns right now, again, Trump has a little advantage in the ad wars, I would say.']],\n",
       " ['JUDY WOODRUFF',\n",
       "  [' And we haven’t talked much about ads in this campaign, Ruth.',\n",
       "   'So, in the last hours before people vote, are these going to make any difference?']],\n",
       " ['RUTH MARCUS',\n",
       "  ['  Well, there have not been really kind of breakout ads that have galvanized attention in this campaign more than in previous ones.',\n",
       "   'But there was an interesting one that was just released last night from the Bernie Sanders campaign, with which had this very morning in America, if you don’t mind my using that phrase…']],\n",
       " ['JUDY WOODRUFF', [' From Ronald Reagan.']],\n",
       " ['RUTH MARCUS',\n",
       "  [' … with regard to Bernie Sanders, tone to it. It had zero message. From the guy who has a very crisp and explicit message, it’s just Simon and Garfunkel America song with pictures of Bernie Sanders and rapturous voters.']],\n",
       " ['JUDY WOODRUFF',\n",
       "  [' Could something like that work? Because we’re seeing a much tougher race, not as tough as what the Republicans are engaging in, but we’re seeing a much tougher race now between Clinton and Sanders.']],\n",
       " ['RUTH MARCUS',\n",
       "  [' I watched it a few times. I have to say, it made me smile. And it made me also kind of have flashbacks to Barack Obama 2008.',\n",
       "   'And I think Hillary Clinton may be having some flashbacks now as well, because, as with Barack Obama, Sanders has turned his campaign into quite a movement. You see it with the voters in New Hampshire. And you see it with the polls in New Hampshire.',\n",
       "   'And it’s not that he has — he can afford to run that ad, because it’s not as if he lacks a message. Voters know clearly what his message is.']],\n",
       " ['JUDY WOODRUFF',\n",
       "  ['  But he also went after her, David, in that debate on Sunday night on several things, including the speaking fees she collected from Wall Street, from the big financial firms. Is that something that gains traction for him?']],\n",
       " ['DAVID BROOKS',\n",
       "  [' Among his voters who think Wall Street is the epicenter of evil, I think it is.',\n",
       "   'They also had an interesting debate about health care reform. And that was her making an incremental argument, we have got to make our changes gradually, and him making a radical argument. And so it was interesting. That was a substantive, real argument about how you change any system.',\n",
       "   'And, again, I’m going to go back to the magic — or maybe a better word is charisma. Some campaigns have charisma at certain moments, and some campaigns are flat in certain moments. Right now, in part, like that ad, Sanders has a little more charisma to her — his campaign, Clinton a little lacking in charisma. And that’s sort of important, because people just gravitate in final days.']],\n",
       " ['JUDY WOODRUFF',\n",
       "  [' Even though he’s talking — essentially, the argument is whether you just wipe away to what we have done and you go to a single-payer health care system, which most Americans say they don’t want, right, or…']],\n",
       " ['RUTH MARCUS',\n",
       "  [' Well, it really is this argument about practicality.',\n",
       "   'And one of the things that’s interesting is there is actually a parallel argument going on in the Republican and Democratic campaigns. So, Hillary Clinton says, I’m the pragmatist, I’m a progressive, but I’m a pragmatic one. I know how to get results. What he’s saying, maybe it’s a great idea in theory, but he will never be able to put it in practice.',\n",
       "   'Oddly enough, Donald Trump is making that same argument against Ted Cruz. He is saying, Ted Cruz, it can’t — well, first of all, he’s a little squirrelly and maybe he’s not really a conservative, and look at this squirrelly answer on immigration, but, also, Ted Cruz can’t get anything done in Washington because he doesn’t know how to get along with anybody, and he’s too extreme.',\n",
       "   'And so there is that sort of practicality argument that is emerging on both sides.']],\n",
       " ['JUDY WOODRUFF',\n",
       "  [' It is interesting, because you see Bill Clinton out there, David, making some of these same arguments.',\n",
       "   'And, Ruth, you saw him on the trail this week.']],\n",
       " ['RUTH MARCUS',\n",
       "  [' I was with him. I was having a little flashback down memory lane. Bill Clinton talked about stopping off at the Dunkin’ Donuts.']],\n",
       " ['JUDY WOODRUFF',\n",
       "  [' Does he have the same — does he bring the same weight, gravitas to this campaign that he did in the past, do you think?']],\n",
       " ['DAVID BROOKS',\n",
       "  [' Yes. He’s still good. He’s still a master at arguing, master at making the case.',\n",
       "   'And there’s a lot of residual good will toward him. What’s striking to me is how, even he ran as a — and really governed as a moderate, he still has personal good will.',\n",
       "   'The other thing that’s going on is — and I think this is also helping Sanders in New Hampshire — and, again, I wouldn’t bet on him to win the nomination — but helping him, Sanders, a little residual resentment among Democratic primary voters about Obama, and his being more centrist than they would like, especially in the first, say, six years.',\n",
       "   'And so they’re a little more suspicious of moderation and are more willing to take a flyer on a guy who may not be that pragmatic.']],\n",
       " ['JUDY WOODRUFF', [' Do you see that?']],\n",
       " ['RUTH MARCUS',\n",
       "  [' I actually felt a lot of Obama love still there in New Hampshire among the voters that I talked to.',\n",
       "   'But I think Bill Clinton, especially among Democratic primary voters and especially in New Hampshire, which was a state that has showered both Clintons with love and success — well, you know, he didn’t win the New Hampshire primary, but he came in second — is a valuable tool.',\n",
       "   'I think the really important question for us all to be thinking about going forward is, what if? What if what once seemed unimaginable happens, Bernie Sanders wins both Iowa and New Hampshire?']],\n",
       " ['JUDY WOODRUFF', [' Right. Right.']],\n",
       " ['RUTH MARCUS',\n",
       "  [' The Clinton campaign argument is the demographic fire wall of minority voters in South Carolina and beyond. The Sanders campaign argument is the kind of magic that David’s been talking about and whether people will be — whether that demographic firewall is as strong as the Clinton campaign thinks it is.']],\n",
       " ['JUDY WOODRUFF',\n",
       "  [' Less than 30 seconds. I was going to ask you about foreign policy, the Iran story, prisoner swap. We won’t have time for that, but it is striking that, just a month ago, we were talking about ISIS, the terrorist threat, and that seems to be off the page.']],\n",
       " ['DAVID BROOKS',\n",
       "  [' It will be back. You never escape it. And I think the Middle East is more destabilized now than in our lifetimes. It will be back when some incident happens.']],\n",
       " ['RUTH MARCUS',\n",
       "  [' It will be back. And it’s still very much a front-and-center part of the discourse in the Republican primary election.']],\n",
       " ['JUDY WOODRUFF', [' Voters are bringing it up.']],\n",
       " ['RUTH MARCUS',\n",
       "  [' Voters are bringing it up and candidates are bringing it up.']],\n",
       " ['JUDY WOODRUFF',\n",
       "  [' Ruth Marcus, David Brooks, thank you both. And good luck in the storm this weekend.']],\n",
       " ['RUTH MARCUS', [' Thank you.']],\n",
       " ['DAVID BROOKS', ['  Thank you.']],\n",
       " ['RUTH MARCUS', [' Same to you.']]]"
      ]
     },
     "execution_count": 25,
     "metadata": {},
     "output_type": "execute_result"
    }
   ],
   "source": [
    "pbs_df.loc[2].Transcript"
   ]
  },
  {
   "cell_type": "code",
   "execution_count": 17,
   "metadata": {},
   "outputs": [
    {
     "data": {
      "text/plain": [
       "'https://www.pbs.org/newshour/show/brooks-and-marcus-on-gop-backlash-to-trump-and-cruz-clinton-sanders-practicality-debate'"
      ]
     },
     "execution_count": 17,
     "metadata": {},
     "output_type": "execute_result"
    }
   ],
   "source": [
    "pbs_df.loc[2].URL"
   ]
  },
  {
   "cell_type": "code",
   "execution_count": null,
   "metadata": {
    "collapsed": true
   },
   "outputs": [],
   "source": []
  },
  {
   "cell_type": "code",
   "execution_count": null,
   "metadata": {
    "collapsed": true
   },
   "outputs": [],
   "source": []
  },
  {
   "cell_type": "code",
   "execution_count": null,
   "metadata": {
    "collapsed": true
   },
   "outputs": [],
   "source": []
  },
  {
   "cell_type": "code",
   "execution_count": null,
   "metadata": {
    "collapsed": true
   },
   "outputs": [],
   "source": []
  },
  {
   "cell_type": "code",
   "execution_count": null,
   "metadata": {
    "collapsed": true
   },
   "outputs": [],
   "source": []
  },
  {
   "cell_type": "code",
   "execution_count": null,
   "metadata": {
    "collapsed": true
   },
   "outputs": [],
   "source": []
  },
  {
   "cell_type": "code",
   "execution_count": null,
   "metadata": {
    "collapsed": true
   },
   "outputs": [],
   "source": []
  },
  {
   "cell_type": "code",
   "execution_count": null,
   "metadata": {
    "collapsed": true
   },
   "outputs": [],
   "source": []
  },
  {
   "cell_type": "code",
   "execution_count": null,
   "metadata": {
    "collapsed": true
   },
   "outputs": [],
   "source": []
  },
  {
   "cell_type": "code",
   "execution_count": null,
   "metadata": {
    "collapsed": true
   },
   "outputs": [],
   "source": []
  }
 ],
 "metadata": {
  "kernelspec": {
   "display_name": "Python 3",
   "language": "python",
   "name": "python3"
  },
  "language_info": {
   "codemirror_mode": {
    "name": "ipython",
    "version": 3
   },
   "file_extension": ".py",
   "mimetype": "text/x-python",
   "name": "python",
   "nbconvert_exporter": "python",
   "pygments_lexer": "ipython3",
   "version": "3.6.3"
  }
 },
 "nbformat": 4,
 "nbformat_minor": 2
}
