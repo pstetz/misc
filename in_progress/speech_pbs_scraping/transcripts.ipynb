{
 "cells": [
  {
   "cell_type": "markdown",
   "metadata": {},
   "source": [
    "# This notebook takes the transcripts from clips of PBS Newshour\n",
    "\n",
    "This is a lot easier and works better than full episodes.  I can't find transcripts for full episodes which adds to their difficulty however a clip on PBS Newshour always has a transcript.  This is also a lot less data (text is less info than sound or video)."
   ]
  },
  {
   "cell_type": "markdown",
   "metadata": {},
   "source": [
    "### Clips Timeline\n",
    "\n",
    "The [earliest clip](https://www.pbs.org/newshour/show/robert-macneil-and-jim-lehrer-and-the-watergate-hearings) is from Nixon's Watergate scandal in May 17 1973.\n",
    "\n",
    "- Unfortunately this clip does not have a transcript (the transcript is blank).  I have a feeling this might be common so our scraping should watch out for this.\n",
    " \n",
    "The early clips have quite a bit of pockets as the [tenth oldest clip](https://www.pbs.org/newshour/show/early-years-of-aids-deaths-fuel-fear) is from Sep 4 1985.  The [100th oldest clip](https://www.pbs.org/newshour/show/george-shultz-working-age-89) is relatively recent and is from Dec 16 2009."
   ]
  },
  {
   "cell_type": "markdown",
   "metadata": {},
   "source": [
    "### Scraping Structure\n",
    "\n",
    "#### Page iteration\n",
    "\n",
    "We should first iterate over each page of clips.  The url for each page is https://www.pbs.org/newshour/video/page/<strong>PAGE_NUMBER</strong>.  As of typing, there are 980 pages of clips.  The videos for each page appear to be stored in `<div id=\"all-videos\"> ... </div>`.  Of course the link to each clip is stored in a `<a href=\"URL\"> ... </a>` block.  This is very convenient!\n",
    "\n",
    "<u>Note</u>: One tricky part is I must skip full episodes shown on the page.  Full episodes contain no transcripts.\n",
    "\n",
    "### Transcript scanning\n",
    "\n",
    "Once we arrive at a clip we want a few things: (1) page URL, this will be nice for debugging, (2) text stored under \"Story\", this is essentially the summary of the clip, (3) date and time, (4) video title, (5) transcript.  Let's attack each of these strategically.  It's important to note some clips don't have transcripts ([example](https://www.pbs.org/newshour/show/voices-from-sandy-madeleine-conway-breezy-point)) and some clips have blank transcripts ([example]())\n",
    "\n",
    "<u>Note</u>: It would also be nice to get video tags if that's availiable.  Such as politics, opinion, technology, etc.\n",
    "\n",
    "#### 1.) Page URL\n",
    "\n",
    "We already have this info since we arrived at the proper page!\n",
    "\n",
    "#### 2.) \"Story\" text\n",
    "\n",
    "The structure seems to be...\n",
    "\n",
    "`<div id=\"story\">\n",
    "  <div class=\"body-text\">\n",
    "    <p>\n",
    "      OUR TEXT\n",
    "    </p>\n",
    "  </div>\n",
    "</div>`\n",
    "\n",
    "Other times it's stored as ([example](https://www.pbs.org/newshour/show/shields-and-brooks-on-trumps-supreme-court-politics-ocasio-cortezs-primary-upset))...\n",
    "\n",
    "`<div class=\"vt__excerpt body-text\">\n",
    "  <p>\n",
    "    OUR_TEXT\n",
    "  </p>\n",
    "</div>`\n",
    "\n",
    "#### 3.) Date and time\n",
    "\n",
    "This seems to be stored in a `<time> ... </time>` block.  I wasn't even aware this existed in HTML, hopefully it's unique for each clip page.\n",
    "\n",
    "This looks like it might need some formatting later, but let's worry about that then and just store it as a string for now.\n",
    "\n",
    "#### 4.) Title\n",
    "\n",
    "This is stored in a `<h1> ... </h1>` block.  It's actually the only other child of (3)'s parent.  We should get both pieces of info at once\n",
    "\n",
    "#### 5.) Transcript\n",
    "\n",
    "This might be the trickiest part as some don't have transcripts.  However the ones that do ([example](https://www.pbs.org/newshour/show/shields-and-brooks-on-trumps-supreme-court-politics-ocasio-cortezs-primary-upset)) are stored as...\n",
    "\n",
    "\n",
    "`\n",
    "    <ul class=\"video-transcript\">\n",
    "    <li>\n",
    "        <div>\n",
    "          <p><strong>SPEAKER_NAME</strong></p>\n",
    "          <p>SPEAKER_TEXT</p>\n",
    "          ...\n",
    "          <p>SPEAKER_TEXT</p>\n",
    "        </div>\n",
    "    </li>\n",
    "  </ul>\n",
    "`\n",
    "\n",
    "<u>Note</u>: Each `<li></li>` is an individual person talking\n",
    "\n",
    "Older videos ([example](https://www.pbs.org/newshour/show/troubles-for-the-holy-see-ahead-of-papal-elections)) seem to need a click on 'Transcripts' to unhid the text.  Also it seems possible to add `#story` and `#transcript` to the URL to get the information needed.  The transcript is stored differently as well.\n",
    "\n",
    "`\n",
    "    <div id=\"transcript\">\n",
    "    <ul class=\"video-transcript\">\n",
    "      <li>PERSON</li>\n",
    "    </ul>\n",
    "  </div>`\n",
    "\n",
    "This [clip](https://www.pbs.org/newshour/show/troubles-for-the-holy-see-ahead-of-papal-elections) also seems to make a mistake... one person's text carries over into the next `li`.  I think this can be rememdied by checking if a `<strong>` exists"
   ]
  },
  {
   "cell_type": "code",
   "execution_count": null,
   "metadata": {
    "collapsed": true
   },
   "outputs": [],
   "source": []
  }
 ],
 "metadata": {
  "kernelspec": {
   "display_name": "Python 3",
   "language": "python",
   "name": "python3"
  },
  "language_info": {
   "codemirror_mode": {
    "name": "ipython",
    "version": 3
   },
   "file_extension": ".py",
   "mimetype": "text/x-python",
   "name": "python",
   "nbconvert_exporter": "python",
   "pygments_lexer": "ipython3",
   "version": "3.6.3"
  }
 },
 "nbformat": 4,
 "nbformat_minor": 2
}
