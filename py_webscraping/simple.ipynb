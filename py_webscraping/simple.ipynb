{
 "cells": [
  {
   "cell_type": "markdown",
   "metadata": {},
   "source": [
    "# Note: this is the same code as simple.py\n",
    "\n",
    "They are the same exact code, this is just here in case someone prefers using a Jupyter notebook"
   ]
  },
  {
   "cell_type": "markdown",
   "metadata": {},
   "source": [
    "## Imports"
   ]
  },
  {
   "cell_type": "code",
   "execution_count": 1,
   "metadata": {
    "collapsed": true
   },
   "outputs": [],
   "source": [
    "# Removes warnings that occassionally show in imports\n",
    "import warnings\n",
    "warnings.filterwarnings('ignore')\n",
    "\n",
    "# Libraries for website scraping\n",
    "from bs4 import BeautifulSoup\n",
    "import requests\n",
    "import urllib"
   ]
  },
  {
   "cell_type": "markdown",
   "metadata": {},
   "source": [
    "#### Pulling the website data off the internet"
   ]
  },
  {
   "cell_type": "code",
   "execution_count": 2,
   "metadata": {
    "collapsed": true,
    "scrolled": true
   },
   "outputs": [],
   "source": [
    "# URL of investment team information\n",
    "website = \"https://www.kennet.com/who-we-are/\"\n",
    "\n",
    "# Retrieving website data\n",
    "page = urllib.request.urlopen(website)\n",
    "page = BeautifulSoup(page)"
   ]
  },
  {
   "cell_type": "code",
   "execution_count": 3,
   "metadata": {
    "collapsed": true
   },
   "outputs": [],
   "source": [
    "# This will keep track of all the team members in either group\n",
    "location_to_person_map = {\"London\": [], \"Silicon Valley\": []}\n",
    "\n",
    "# The location elements are labeled with the class location\n",
    "locations = page.findAll(\"span\", {\"class\": \"location\"})\n",
    "\n",
    "for location in locations:\n",
    "    # The name can be found by the alt tag for the image.\n",
    "    member_name = location.parent.find(\"img\")['alt']\n",
    "    \n",
    "    if location.text == \"London\":\n",
    "        location_to_person_map[\"London\"].append(member_name)\n",
    "    elif location.text == \"Silicon Valley\":\n",
    "        location_to_person_map['Silicon Valley'].append(member_name)"
   ]
  },
  {
   "cell_type": "code",
   "execution_count": 4,
   "metadata": {},
   "outputs": [
    {
     "name": "stdout",
     "output_type": "stream",
     "text": [
      "The London members are: Michael Elias, Hillel Zidel, Neil Cooper, Paul Vider\n",
      "\n",
      "\n",
      "The Silicon Valley members are: Javier Rojas, Eric Filipek, Francesco Mantica\n"
     ]
    }
   ],
   "source": [
    "print(\"The London members are: \" + \", \".join(location_to_person_map[\"London\"]))\n",
    "print(\"\\n\")\n",
    "print(\"The Silicon Valley members are: \" + \", \".join(location_to_person_map[\"Silicon Valley\"]))"
   ]
  },
  {
   "cell_type": "code",
   "execution_count": null,
   "metadata": {
    "collapsed": true
   },
   "outputs": [],
   "source": []
  }
 ],
 "metadata": {
  "kernelspec": {
   "display_name": "Python 3",
   "language": "python",
   "name": "python3"
  },
  "language_info": {
   "codemirror_mode": {
    "name": "ipython",
    "version": 3
   },
   "file_extension": ".py",
   "mimetype": "text/x-python",
   "name": "python",
   "nbconvert_exporter": "python",
   "pygments_lexer": "ipython3",
   "version": "3.6.3"
  }
 },
 "nbformat": 4,
 "nbformat_minor": 2
}
