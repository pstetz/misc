{
 "cells": [
  {
   "cell_type": "markdown",
   "metadata": {},
   "source": [
    "### Setup"
   ]
  },
  {
   "cell_type": "code",
   "execution_count": 1,
   "metadata": {},
   "outputs": [],
   "source": [
    "import math\n",
    "from pyspark import SparkContext, SparkConf\n",
    "\n",
    "conf = SparkConf()\n",
    "sc   = SparkContext(conf = conf)"
   ]
  },
  {
   "cell_type": "markdown",
   "metadata": {},
   "source": [
    "### Find mean"
   ]
  },
  {
   "cell_type": "code",
   "execution_count": 2,
   "metadata": {},
   "outputs": [
    {
     "name": "stdout",
     "output_type": "stream",
     "text": [
      "Mean is: 3.0\n"
     ]
    }
   ],
   "source": [
    "def mean(lst):\n",
    "    N          = len(lst)\n",
    "    integerRDD = sc.parallelize(lst)\n",
    "\n",
    "    mean = (integerRDD\n",
    "            .map(lambda x: x / N)\n",
    "            .reduce(lambda x, y: (x + y)))\n",
    "    return mean\n",
    "\n",
    "lst = [1, 2, 3, 4, 5]\n",
    "lst_mean = mean(lst)\n",
    "print(f\"Mean is: {lst_mean}\")"
   ]
  },
  {
   "cell_type": "markdown",
   "metadata": {},
   "source": [
    "### Find std"
   ]
  },
  {
   "cell_type": "code",
   "execution_count": 3,
   "metadata": {},
   "outputs": [
    {
     "name": "stdout",
     "output_type": "stream",
     "text": [
      "Standard Deviation is: 1.5811388300841898\n"
     ]
    }
   ],
   "source": [
    "def std(lst):\n",
    "    N        = len(lst)\n",
    "    lst_mean = mean(lst)\n",
    "    \n",
    "    integerRDD = sc.parallelize(lst)\n",
    "\n",
    "    std = (integerRDD\n",
    "           .map(lambda x: (x - lst_mean)**2)\n",
    "           .reduce(lambda x, y: (x + y)))\n",
    "    std = math.pow(std / (N-1) , 0.5)\n",
    "    return std\n",
    "\n",
    "lst = [1, 2, 3, 4, 5]\n",
    "lst_std = std(lst)\n",
    "print(f\"Standard Deviation is: {lst_std}\")"
   ]
  },
  {
   "cell_type": "markdown",
   "metadata": {},
   "source": [
    "### Quit context"
   ]
  },
  {
   "cell_type": "code",
   "execution_count": 4,
   "metadata": {
    "collapsed": true
   },
   "outputs": [],
   "source": [
    "sc.stop()"
   ]
  },
  {
   "cell_type": "code",
   "execution_count": null,
   "metadata": {
    "collapsed": true
   },
   "outputs": [],
   "source": []
  }
 ],
 "metadata": {
  "kernelspec": {
   "display_name": "Python 3",
   "language": "python",
   "name": "python3"
  },
  "language_info": {
   "codemirror_mode": {
    "name": "ipython",
    "version": 3
   },
   "file_extension": ".py",
   "mimetype": "text/x-python",
   "name": "python",
   "nbconvert_exporter": "python",
   "pygments_lexer": "ipython3",
   "version": "3.6.3"
  }
 },
 "nbformat": 4,
 "nbformat_minor": 2
}
