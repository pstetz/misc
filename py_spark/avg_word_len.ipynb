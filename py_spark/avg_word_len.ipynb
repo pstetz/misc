{
 "cells": [
  {
   "cell_type": "markdown",
   "metadata": {},
   "source": [
    "# Goal:\n",
    "\n",
    "Find the average word length from a Shakespeare text after removing stopwords.  This example is taken from the book <u>Teach Yourself Apache Spark in 24 Hours</u> by Jeffrey Aven (Chapter 12)"
   ]
  },
  {
   "cell_type": "markdown",
   "metadata": {},
   "source": [
    "### Setup"
   ]
  },
  {
   "cell_type": "code",
   "execution_count": 1,
   "metadata": {
    "collapsed": true
   },
   "outputs": [],
   "source": [
    "import pandas as pd\n",
    "import numpy as np\n",
    "from pyspark import SparkContext\n",
    "\n",
    "sc = SparkContext()\n",
    "\n",
    "stopwords = pd.read_csv(\"https://s3.amazonaws.com/sty-spark/stopwords/stop-word-list.csv\", header=None).values\n",
    "stopwords = sc.broadcast(stopwords)"
   ]
  },
  {
   "cell_type": "markdown",
   "metadata": {},
   "source": [
    "### Accumulators"
   ]
  },
  {
   "cell_type": "code",
   "execution_count": 2,
   "metadata": {
    "collapsed": true
   },
   "outputs": [],
   "source": [
    "word_count = sc.accumulator(0)\n",
    "total_len = sc.accumulator(0.0)\n",
    "\n",
    "def add_values(word, word_count, total_len):\n",
    "    word_count += 1\n",
    "    total_len  += len(word)"
   ]
  },
  {
   "cell_type": "markdown",
   "metadata": {},
   "source": [
    "### Load words"
   ]
  },
  {
   "cell_type": "code",
   "execution_count": 3,
   "metadata": {
    "collapsed": true
   },
   "outputs": [],
   "source": [
    "words = (sc.textFile(\"data/shakespeare.txt\")\n",
    "         .flatMap(lambda line: line.split())\n",
    "         .map(lambda x: x.lower())\n",
    "         .filter(lambda x: x not in stopwords.value))"
   ]
  },
  {
   "cell_type": "markdown",
   "metadata": {},
   "source": [
    "### Find average word length"
   ]
  },
  {
   "cell_type": "code",
   "execution_count": 4,
   "metadata": {},
   "outputs": [
    {
     "name": "stdout",
     "output_type": "stream",
     "text": [
      "Total number of words: 966958\n",
      "Average word length: 3.608722405730135\n"
     ]
    }
   ],
   "source": [
    "words.foreach(lambda x: add_values(x, word_count, total_len))\n",
    "avgwordlen = total_len.value / word_count.value\n",
    "\n",
    "print(f\"Total number of words: {str(word_count.value)}\")\n",
    "print(f\"Average word length: {str(avgwordlen)}\")"
   ]
  },
  {
   "cell_type": "markdown",
   "metadata": {},
   "source": [
    "### Quit Context"
   ]
  },
  {
   "cell_type": "code",
   "execution_count": 5,
   "metadata": {},
   "outputs": [],
   "source": [
    "sc.stop()"
   ]
  },
  {
   "cell_type": "code",
   "execution_count": null,
   "metadata": {
    "collapsed": true
   },
   "outputs": [],
   "source": []
  }
 ],
 "metadata": {
  "kernelspec": {
   "display_name": "Python 3",
   "language": "python",
   "name": "python3"
  },
  "language_info": {
   "codemirror_mode": {
    "name": "ipython",
    "version": 3
   },
   "file_extension": ".py",
   "mimetype": "text/x-python",
   "name": "python",
   "nbconvert_exporter": "python",
   "pygments_lexer": "ipython3",
   "version": "3.6.3"
  }
 },
 "nbformat": 4,
 "nbformat_minor": 2
}
