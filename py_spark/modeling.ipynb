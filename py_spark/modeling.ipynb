{
 "cells": [
  {
   "cell_type": "markdown",
   "metadata": {},
   "source": [
    "### Imports"
   ]
  },
  {
   "cell_type": "code",
   "execution_count": 40,
   "metadata": {
    "collapsed": true
   },
   "outputs": [],
   "source": [
    "import pandas as pd\n",
    "import numpy as np\n",
    "\n",
    "from pyspark.sql import SparkSession, SQLContext\n",
    "from itertools import islice"
   ]
  },
  {
   "cell_type": "markdown",
   "metadata": {},
   "source": [
    "### Build the SparkSession"
   ]
  },
  {
   "cell_type": "code",
   "execution_count": 32,
   "metadata": {},
   "outputs": [],
   "source": [
    "spark = (SparkSession.builder\n",
    "         .master(\"local\")\n",
    "         .appName(\"Linear Regression Model\")\n",
    "         .config(\"spark.executor.memory\", \"1gb\")\n",
    "         .getOrCreate())\n",
    "   \n",
    "sc = spark.sparkContext\n",
    "sql_sc = SQLContext(sc)"
   ]
  },
  {
   "cell_type": "markdown",
   "metadata": {},
   "source": [
    "### Load data"
   ]
  },
  {
   "cell_type": "code",
   "execution_count": 44,
   "metadata": {},
   "outputs": [],
   "source": [
    "df_pandas = pd.read_csv(\"/Users/pbezuhov/git/Kaggle/data/house_prices/train.csv\", nrows=10)\n",
    "df = sql_sc.read.csv(\"/Users/pbezuhov/git/Kaggle/data/house_prices/train.csv\")"
   ]
  },
  {
   "cell_type": "code",
   "execution_count": 46,
   "metadata": {},
   "outputs": [
    {
     "name": "stdout",
     "output_type": "stream",
     "text": [
      "<class 'pandas.core.frame.DataFrame'>\n",
      "RangeIndex: 10 entries, 0 to 9\n",
      "Data columns (total 81 columns):\n",
      "Id               10 non-null int64\n",
      "MSSubClass       10 non-null int64\n",
      "MSZoning         10 non-null object\n",
      "LotFrontage      9 non-null float64\n",
      "LotArea          10 non-null int64\n",
      "Street           10 non-null object\n",
      "Alley            0 non-null float64\n",
      "LotShape         10 non-null object\n",
      "LandContour      10 non-null object\n",
      "Utilities        10 non-null object\n",
      "LotConfig        10 non-null object\n",
      "LandSlope        10 non-null object\n",
      "Neighborhood     10 non-null object\n",
      "Condition1       10 non-null object\n",
      "Condition2       10 non-null object\n",
      "BldgType         10 non-null object\n",
      "HouseStyle       10 non-null object\n",
      "OverallQual      10 non-null int64\n",
      "OverallCond      10 non-null int64\n",
      "YearBuilt        10 non-null int64\n",
      "YearRemodAdd     10 non-null int64\n",
      "RoofStyle        10 non-null object\n",
      "RoofMatl         10 non-null object\n",
      "Exterior1st      10 non-null object\n",
      "Exterior2nd      10 non-null object\n",
      "MasVnrType       10 non-null object\n",
      "MasVnrArea       10 non-null int64\n",
      "ExterQual        10 non-null object\n",
      "ExterCond        10 non-null object\n",
      "Foundation       10 non-null object\n",
      "BsmtQual         10 non-null object\n",
      "BsmtCond         10 non-null object\n",
      "BsmtExposure     10 non-null object\n",
      "BsmtFinType1     10 non-null object\n",
      "BsmtFinSF1       10 non-null int64\n",
      "BsmtFinType2     10 non-null object\n",
      "BsmtFinSF2       10 non-null int64\n",
      "BsmtUnfSF        10 non-null int64\n",
      "TotalBsmtSF      10 non-null int64\n",
      "Heating          10 non-null object\n",
      "HeatingQC        10 non-null object\n",
      "CentralAir       10 non-null object\n",
      "Electrical       10 non-null object\n",
      "1stFlrSF         10 non-null int64\n",
      "2ndFlrSF         10 non-null int64\n",
      "LowQualFinSF     10 non-null int64\n",
      "GrLivArea        10 non-null int64\n",
      "BsmtFullBath     10 non-null int64\n",
      "BsmtHalfBath     10 non-null int64\n",
      "FullBath         10 non-null int64\n",
      "HalfBath         10 non-null int64\n",
      "BedroomAbvGr     10 non-null int64\n",
      "KitchenAbvGr     10 non-null int64\n",
      "KitchenQual      10 non-null object\n",
      "TotRmsAbvGrd     10 non-null int64\n",
      "Functional       10 non-null object\n",
      "Fireplaces       10 non-null int64\n",
      "FireplaceQu      8 non-null object\n",
      "GarageType       10 non-null object\n",
      "GarageYrBlt      10 non-null int64\n",
      "GarageFinish     10 non-null object\n",
      "GarageCars       10 non-null int64\n",
      "GarageArea       10 non-null int64\n",
      "GarageQual       10 non-null object\n",
      "GarageCond       10 non-null object\n",
      "PavedDrive       10 non-null object\n",
      "WoodDeckSF       10 non-null int64\n",
      "OpenPorchSF      10 non-null int64\n",
      "EnclosedPorch    10 non-null int64\n",
      "3SsnPorch        10 non-null int64\n",
      "ScreenPorch      10 non-null int64\n",
      "PoolArea         10 non-null int64\n",
      "PoolQC           0 non-null float64\n",
      "Fence            1 non-null object\n",
      "MiscFeature      2 non-null object\n",
      "MiscVal          10 non-null int64\n",
      "MoSold           10 non-null int64\n",
      "YrSold           10 non-null int64\n",
      "SaleType         10 non-null object\n",
      "SaleCondition    10 non-null object\n",
      "SalePrice        10 non-null int64\n",
      "dtypes: float64(3), int64(37), object(41)\n",
      "memory usage: 6.4+ KB\n"
     ]
    }
   ],
   "source": [
    "df_pandas.info()"
   ]
  },
  {
   "cell_type": "markdown",
   "metadata": {},
   "source": [
    "### Look at Schema"
   ]
  },
  {
   "cell_type": "code",
   "execution_count": 38,
   "metadata": {
    "scrolled": true
   },
   "outputs": [
    {
     "name": "stdout",
     "output_type": "stream",
     "text": [
      "root\n",
      " |-- _c0: string (nullable = true)\n",
      " |-- _c1: string (nullable = true)\n",
      " |-- _c2: string (nullable = true)\n",
      " |-- _c3: string (nullable = true)\n",
      " |-- _c4: string (nullable = true)\n",
      " |-- _c5: string (nullable = true)\n",
      " |-- _c6: string (nullable = true)\n",
      " |-- _c7: string (nullable = true)\n",
      " |-- _c8: string (nullable = true)\n",
      " |-- _c9: string (nullable = true)\n",
      " |-- _c10: string (nullable = true)\n",
      " |-- _c11: string (nullable = true)\n",
      " |-- _c12: string (nullable = true)\n",
      " |-- _c13: string (nullable = true)\n",
      " |-- _c14: string (nullable = true)\n",
      " |-- _c15: string (nullable = true)\n",
      " |-- _c16: string (nullable = true)\n",
      " |-- _c17: string (nullable = true)\n",
      " |-- _c18: string (nullable = true)\n",
      " |-- _c19: string (nullable = true)\n",
      " |-- _c20: string (nullable = true)\n",
      " |-- _c21: string (nullable = true)\n",
      " |-- _c22: string (nullable = true)\n",
      " |-- _c23: string (nullable = true)\n",
      " |-- _c24: string (nullable = true)\n",
      " |-- _c25: string (nullable = true)\n",
      " |-- _c26: string (nullable = true)\n",
      " |-- _c27: string (nullable = true)\n",
      " |-- _c28: string (nullable = true)\n",
      " |-- _c29: string (nullable = true)\n",
      " |-- _c30: string (nullable = true)\n",
      " |-- _c31: string (nullable = true)\n",
      " |-- _c32: string (nullable = true)\n",
      " |-- _c33: string (nullable = true)\n",
      " |-- _c34: string (nullable = true)\n",
      " |-- _c35: string (nullable = true)\n",
      " |-- _c36: string (nullable = true)\n",
      " |-- _c37: string (nullable = true)\n",
      " |-- _c38: string (nullable = true)\n",
      " |-- _c39: string (nullable = true)\n",
      " |-- _c40: string (nullable = true)\n",
      " |-- _c41: string (nullable = true)\n",
      " |-- _c42: string (nullable = true)\n",
      " |-- _c43: string (nullable = true)\n",
      " |-- _c44: string (nullable = true)\n",
      " |-- _c45: string (nullable = true)\n",
      " |-- _c46: string (nullable = true)\n",
      " |-- _c47: string (nullable = true)\n",
      " |-- _c48: string (nullable = true)\n",
      " |-- _c49: string (nullable = true)\n",
      " |-- _c50: string (nullable = true)\n",
      " |-- _c51: string (nullable = true)\n",
      " |-- _c52: string (nullable = true)\n",
      " |-- _c53: string (nullable = true)\n",
      " |-- _c54: string (nullable = true)\n",
      " |-- _c55: string (nullable = true)\n",
      " |-- _c56: string (nullable = true)\n",
      " |-- _c57: string (nullable = true)\n",
      " |-- _c58: string (nullable = true)\n",
      " |-- _c59: string (nullable = true)\n",
      " |-- _c60: string (nullable = true)\n",
      " |-- _c61: string (nullable = true)\n",
      " |-- _c62: string (nullable = true)\n",
      " |-- _c63: string (nullable = true)\n",
      " |-- _c64: string (nullable = true)\n",
      " |-- _c65: string (nullable = true)\n",
      " |-- _c66: string (nullable = true)\n",
      " |-- _c67: string (nullable = true)\n",
      " |-- _c68: string (nullable = true)\n",
      " |-- _c69: string (nullable = true)\n",
      " |-- _c70: string (nullable = true)\n",
      " |-- _c71: string (nullable = true)\n",
      " |-- _c72: string (nullable = true)\n",
      " |-- _c73: string (nullable = true)\n",
      " |-- _c74: string (nullable = true)\n",
      " |-- _c75: string (nullable = true)\n",
      " |-- _c76: string (nullable = true)\n",
      " |-- _c77: string (nullable = true)\n",
      " |-- _c78: string (nullable = true)\n",
      " |-- _c79: string (nullable = true)\n",
      " |-- _c80: string (nullable = true)\n",
      "\n"
     ]
    }
   ],
   "source": [
    "df.printSchema()"
   ]
  },
  {
   "cell_type": "markdown",
   "metadata": {},
   "source": [
    "### Cast type"
   ]
  },
  {
   "cell_type": "code",
   "execution_count": 54,
   "metadata": {},
   "outputs": [],
   "source": [
    "from pyspark.sql.types import IntegerType, BooleanType, FloatType\n",
    "\n",
    "def convertColumn(df, names, newType):\n",
    "    for name in names: \n",
    "        df = df.withColumn(name, df[name].cast(newType))\n",
    "    return df \n",
    "\n",
    "names = [col for col in df_pandas.columns if df_pandas[col].dtype != object]\n",
    "df = convertColumn(df, names, FloatType())"
   ]
  },
  {
   "cell_type": "code",
   "execution_count": null,
   "metadata": {
    "collapsed": true
   },
   "outputs": [],
   "source": []
  }
 ],
 "metadata": {
  "kernelspec": {
   "display_name": "Python 3",
   "language": "python",
   "name": "python3"
  },
  "language_info": {
   "codemirror_mode": {
    "name": "ipython",
    "version": 3
   },
   "file_extension": ".py",
   "mimetype": "text/x-python",
   "name": "python",
   "nbconvert_exporter": "python",
   "pygments_lexer": "ipython3",
   "version": "3.6.3"
  }
 },
 "nbformat": 4,
 "nbformat_minor": 2
}
